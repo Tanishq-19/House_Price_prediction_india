{
 "cells": [
  {
   "cell_type": "markdown",
   "id": "fc88067e",
   "metadata": {},
   "source": [
    "# House-Price-Prediction-India\n",
    "This Notebook uses ML-algorithms to train model and predict house prices in India."
   ]
  },
  {
   "cell_type": "markdown",
   "id": "1c11e0e1",
   "metadata": {},
   "source": [
    "![title](picture.jfif)\n"
   ]
  },
  {
   "cell_type": "markdown",
   "id": "691fd25d",
   "metadata": {},
   "source": [
    "## 1. Problem \n"
   ]
  }
 ],
 "metadata": {
  "kernelspec": {
   "display_name": "Python 3 (ipykernel)",
   "language": "python",
   "name": "python3"
  },
  "language_info": {
   "codemirror_mode": {
    "name": "ipython",
    "version": 3
   },
   "file_extension": ".py",
   "mimetype": "text/x-python",
   "name": "python",
   "nbconvert_exporter": "python",
   "pygments_lexer": "ipython3",
   "version": "3.9.6"
  }
 },
 "nbformat": 4,
 "nbformat_minor": 5
}
